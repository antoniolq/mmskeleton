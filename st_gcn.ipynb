{
  "nbformat": 4,
  "nbformat_minor": 0,
  "metadata": {
    "colab": {
      "name": "st-gcn.ipynb",
      "provenance": [],
      "mount_file_id": "1pc009sAUv445HMUnIijrE1_aZefcMfMz",
      "authorship_tag": "ABX9TyN0sx1BxdWKhysxR8VQ0h1S",
      "include_colab_link": true
    },
    "kernelspec": {
      "name": "python3",
      "display_name": "Python 3"
    }
  },
  "cells": [
    {
      "cell_type": "markdown",
      "metadata": {
        "id": "view-in-github",
        "colab_type": "text"
      },
      "source": [
        "<a href=\"https://colab.research.google.com/github/antoniolq/mmskeleton/blob/master/st_gcn.ipynb\" target=\"_parent\"><img src=\"https://colab.research.google.com/assets/colab-badge.svg\" alt=\"Open In Colab\"/></a>"
      ]
    },
    {
      "cell_type": "code",
      "metadata": {
        "id": "6P708MOu36UM",
        "colab_type": "code",
        "colab": {
          "base_uri": "https://localhost:8080/",
          "height": 34
        },
        "outputId": "8c15d518-ecb0-4eb0-ed60-b9daf88e480c"
      },
      "source": [
        "cd /content/drive/My Drive/code"
      ],
      "execution_count": 1,
      "outputs": [
        {
          "output_type": "stream",
          "text": [
            "/content/drive/My Drive/code\n"
          ],
          "name": "stdout"
        }
      ]
    },
    {
      "cell_type": "code",
      "metadata": {
        "id": "ofpOTFn55LtG",
        "colab_type": "code",
        "colab": {
          "base_uri": "https://localhost:8080/",
          "height": 101
        },
        "outputId": "87f4ed4c-66f0-41d2-ebaf-0b8b27ad3239"
      },
      "source": [
        "!git clone https://github.com/yysijie/st-gcn"
      ],
      "execution_count": 2,
      "outputs": [
        {
          "output_type": "stream",
          "text": [
            "Cloning into 'st-gcn'...\n",
            "remote: Enumerating objects: 1523, done.\u001b[K\n",
            "remote: Total 1523 (delta 0), reused 0 (delta 0), pack-reused 1523\u001b[K\n",
            "Receiving objects: 100% (1523/1523), 57.17 MiB | 20.82 MiB/s, done.\n",
            "Resolving deltas: 100% (780/780), done.\n"
          ],
          "name": "stdout"
        }
      ]
    },
    {
      "cell_type": "code",
      "metadata": {
        "id": "LnPqR0A75yM3",
        "colab_type": "code",
        "colab": {
          "base_uri": "https://localhost:8080/",
          "height": 34
        },
        "outputId": "d638f5a8-bc36-4e46-9b53-a3c530ef04a3"
      },
      "source": [
        "cd st-gcn"
      ],
      "execution_count": 3,
      "outputs": [
        {
          "output_type": "stream",
          "text": [
            "/content/drive/My Drive/code/st-gcn\n"
          ],
          "name": "stdout"
        }
      ]
    },
    {
      "cell_type": "code",
      "metadata": {
        "id": "d9H3uqev6oWk",
        "colab_type": "code",
        "colab": {
          "base_uri": "https://localhost:8080/",
          "height": 34
        },
        "outputId": "14f2fd32-652b-4837-89d2-9d71df64b10e"
      },
      "source": [
        "cd torchlight"
      ],
      "execution_count": 5,
      "outputs": [
        {
          "output_type": "stream",
          "text": [
            "/content/drive/My Drive/code/st-gcn/torchlight\n"
          ],
          "name": "stdout"
        }
      ]
    },
    {
      "cell_type": "code",
      "metadata": {
        "id": "PKaSlYcI6xEz",
        "colab_type": "code",
        "colab": {
          "base_uri": "https://localhost:8080/",
          "height": 739
        },
        "outputId": "1ff17f79-644c-4a36-c771-4f6f55bdcfc6"
      },
      "source": [
        "!python setup.py install"
      ],
      "execution_count": 7,
      "outputs": [
        {
          "output_type": "stream",
          "text": [
            "running install\n",
            "running bdist_egg\n",
            "running egg_info\n",
            "creating torchlight.egg-info\n",
            "writing torchlight.egg-info/PKG-INFO\n",
            "writing dependency_links to torchlight.egg-info/dependency_links.txt\n",
            "writing top-level names to torchlight.egg-info/top_level.txt\n",
            "writing manifest file 'torchlight.egg-info/SOURCES.txt'\n",
            "writing manifest file 'torchlight.egg-info/SOURCES.txt'\n",
            "installing library code to build/bdist.linux-x86_64/egg\n",
            "running install_lib\n",
            "running build_py\n",
            "creating build\n",
            "creating build/lib\n",
            "creating build/lib/torchlight\n",
            "copying torchlight/__init__.py -> build/lib/torchlight\n",
            "copying torchlight/gpu.py -> build/lib/torchlight\n",
            "copying torchlight/io.py -> build/lib/torchlight\n",
            "creating build/bdist.linux-x86_64\n",
            "creating build/bdist.linux-x86_64/egg\n",
            "creating build/bdist.linux-x86_64/egg/torchlight\n",
            "copying build/lib/torchlight/__init__.py -> build/bdist.linux-x86_64/egg/torchlight\n",
            "copying build/lib/torchlight/gpu.py -> build/bdist.linux-x86_64/egg/torchlight\n",
            "copying build/lib/torchlight/io.py -> build/bdist.linux-x86_64/egg/torchlight\n",
            "byte-compiling build/bdist.linux-x86_64/egg/torchlight/__init__.py to __init__.cpython-36.pyc\n",
            "byte-compiling build/bdist.linux-x86_64/egg/torchlight/gpu.py to gpu.cpython-36.pyc\n",
            "byte-compiling build/bdist.linux-x86_64/egg/torchlight/io.py to io.cpython-36.pyc\n",
            "creating build/bdist.linux-x86_64/egg/EGG-INFO\n",
            "copying torchlight.egg-info/PKG-INFO -> build/bdist.linux-x86_64/egg/EGG-INFO\n",
            "copying torchlight.egg-info/SOURCES.txt -> build/bdist.linux-x86_64/egg/EGG-INFO\n",
            "copying torchlight.egg-info/dependency_links.txt -> build/bdist.linux-x86_64/egg/EGG-INFO\n",
            "copying torchlight.egg-info/top_level.txt -> build/bdist.linux-x86_64/egg/EGG-INFO\n",
            "zip_safe flag not set; analyzing archive contents...\n",
            "creating dist\n",
            "creating 'dist/torchlight-1.0-py3.6.egg' and adding 'build/bdist.linux-x86_64/egg' to it\n",
            "removing 'build/bdist.linux-x86_64/egg' (and everything under it)\n",
            "Processing torchlight-1.0-py3.6.egg\n",
            "Copying torchlight-1.0-py3.6.egg to /usr/local/lib/python3.6/dist-packages\n",
            "Adding torchlight 1.0 to easy-install.pth file\n",
            "\n",
            "Installed /usr/local/lib/python3.6/dist-packages/torchlight-1.0-py3.6.egg\n",
            "Processing dependencies for torchlight==1.0\n",
            "Finished processing dependencies for torchlight==1.0\n"
          ],
          "name": "stdout"
        }
      ]
    },
    {
      "cell_type": "code",
      "metadata": {
        "id": "znWBGalA62M8",
        "colab_type": "code",
        "colab": {
          "base_uri": "https://localhost:8080/",
          "height": 34
        },
        "outputId": "9530ad95-21c5-49b2-f030-43bcea0bc068"
      },
      "source": [
        "cd .."
      ],
      "execution_count": 8,
      "outputs": [
        {
          "output_type": "stream",
          "text": [
            "/content/drive/My Drive/code/st-gcn\n"
          ],
          "name": "stdout"
        }
      ]
    },
    {
      "cell_type": "code",
      "metadata": {
        "id": "UgUsGeWh67Wc",
        "colab_type": "code",
        "colab": {
          "base_uri": "https://localhost:8080/",
          "height": 756
        },
        "outputId": "9d7527aa-2ea6-4449-9213-898074d7d825"
      },
      "source": [
        "!bash tools/get_models.sh"
      ],
      "execution_count": 10,
      "outputs": [
        {
          "output_type": "stream",
          "text": [
            "--2020-02-23 07:21:11--  https://open-mmlab.s3.ap-northeast-2.amazonaws.com/mmskeleton/models/st-gcn/st_gcn.kinetics.pt\n",
            "Resolving open-mmlab.s3.ap-northeast-2.amazonaws.com (open-mmlab.s3.ap-northeast-2.amazonaws.com)... 52.219.60.15\n",
            "Connecting to open-mmlab.s3.ap-northeast-2.amazonaws.com (open-mmlab.s3.ap-northeast-2.amazonaws.com)|52.219.60.15|:443... connected.\n",
            "HTTP request sent, awaiting response... 200 OK\n",
            "Length: 12763702 (12M) [binary/octet-stream]\n",
            "Saving to: ‘models/st_gcn.kinetics.pt’\n",
            "\n",
            "models/st_gcn.kinet 100%[===================>]  12.17M  5.92MB/s    in 2.1s    \n",
            "\n",
            "2020-02-23 07:21:14 (5.92 MB/s) - ‘models/st_gcn.kinetics.pt’ saved [12763702/12763702]\n",
            "\n",
            "--2020-02-23 07:21:14--  https://open-mmlab.s3.ap-northeast-2.amazonaws.com/mmskeleton/models/st-gcn/st_gcn.ntu-xview.pt\n",
            "Resolving open-mmlab.s3.ap-northeast-2.amazonaws.com (open-mmlab.s3.ap-northeast-2.amazonaws.com)... 52.219.58.91\n",
            "Connecting to open-mmlab.s3.ap-northeast-2.amazonaws.com (open-mmlab.s3.ap-northeast-2.amazonaws.com)|52.219.58.91|:443... connected.\n",
            "HTTP request sent, awaiting response... 200 OK\n",
            "Length: 12454245 (12M) [binary/octet-stream]\n",
            "Saving to: ‘models/st_gcn.ntu-xview.pt’\n",
            "\n",
            "models/st_gcn.ntu-x 100%[===================>]  11.88M  5.79MB/s    in 2.1s    \n",
            "\n",
            "2020-02-23 07:21:17 (5.79 MB/s) - ‘models/st_gcn.ntu-xview.pt’ saved [12454245/12454245]\n",
            "\n",
            "--2020-02-23 07:21:17--  https://open-mmlab.s3.ap-northeast-2.amazonaws.com/mmskeleton/models/st-gcn/st_gcn.ntu-xsub.pt\n",
            "Resolving open-mmlab.s3.ap-northeast-2.amazonaws.com (open-mmlab.s3.ap-northeast-2.amazonaws.com)... 52.219.56.27\n",
            "Connecting to open-mmlab.s3.ap-northeast-2.amazonaws.com (open-mmlab.s3.ap-northeast-2.amazonaws.com)|52.219.56.27|:443... connected.\n",
            "HTTP request sent, awaiting response... 200 OK\n",
            "Length: 12454245 (12M) [binary/octet-stream]\n",
            "Saving to: ‘models/st_gcn.ntu-xsub.pt’\n",
            "\n",
            "models/st_gcn.ntu-x 100%[===================>]  11.88M  5.32MB/s    in 2.2s    \n",
            "\n",
            "2020-02-23 07:21:20 (5.32 MB/s) - ‘models/st_gcn.ntu-xsub.pt’ saved [12454245/12454245]\n",
            "\n",
            "--2020-02-23 07:21:20--  http://posefs1.perception.cs.cmu.edu/OpenPose/models/pose/coco/pose_iter_440000.caffemodel\n",
            "Resolving posefs1.perception.cs.cmu.edu (posefs1.perception.cs.cmu.edu)... 128.2.176.37\n",
            "Connecting to posefs1.perception.cs.cmu.edu (posefs1.perception.cs.cmu.edu)|128.2.176.37|:80... connected.\n",
            "HTTP request sent, awaiting response... 200 OK\n",
            "Length: 209274056 (200M) [text/plain]\n",
            "Saving to: ‘models/pose/coco/pose_iter_440000.caffemodel’\n",
            "\n",
            "pose_iter_440000.ca 100%[===================>] 199.58M  60.3MB/s    in 4.7s    \n",
            "\n",
            "2020-02-23 07:21:25 (42.9 MB/s) - ‘models/pose/coco/pose_iter_440000.caffemodel’ saved [209274056/209274056]\n",
            "\n"
          ],
          "name": "stdout"
        }
      ]
    },
    {
      "cell_type": "code",
      "metadata": {
        "id": "saQIoIz-7AM8",
        "colab_type": "code",
        "colab": {}
      },
      "source": [
        ""
      ],
      "execution_count": 0,
      "outputs": []
    }
  ]
}